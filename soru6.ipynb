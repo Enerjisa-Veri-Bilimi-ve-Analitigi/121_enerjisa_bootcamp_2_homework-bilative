{
 "cells": [
  {
   "cell_type": "code",
   "execution_count": 1,
   "metadata": {
    "execution": {
     "iopub.execute_input": "2020-08-27T14:32:23.604206Z",
     "iopub.status.busy": "2020-08-27T14:32:23.603456Z",
     "iopub.status.idle": "2020-08-27T14:32:32.302440Z",
     "shell.execute_reply": "2020-08-27T14:32:32.302997Z"
    },
    "id": "s4ff27IizGyS",
    "outputId": "b975688d-0c3d-4dab-a02c-81e52dc7ab5d",
    "papermill": {
     "duration": 8.732166,
     "end_time": "2020-08-27T14:32:32.303176",
     "exception": false,
     "start_time": "2020-08-27T14:32:23.571010",
     "status": "completed"
    },
    "tags": []
   },
   "outputs": [],
   "source": [
    "import pandas as pd\n",
    "import numpy as np\n",
    "import datetime as dt\n",
    "import plotly.express as px\n",
    "import plotly.graph_objects as go\n",
    "\n",
    "\n",
    "#for quick viz\n",
    "import seaborn as sns\n",
    "\n",
    "#ml\n",
    "from sklearn.model_selection import train_test_split\n",
    "from sklearn.linear_model import LogisticRegression\n",
    "from sklearn.metrics import classification_report\n",
    "from sklearn.tree import DecisionTreeClassifier\n",
    "from sklearn.metrics import accuracy_score\n",
    "from sklearn.model_selection import GridSearchCV\n",
    "from sklearn.svm import SVC\n",
    "from sklearn.metrics import confusion_matrix\n",
    "\n",
    "from imblearn.over_sampling import SMOTE\n",
    "from imblearn.under_sampling import RandomUnderSampler\n",
    "from imblearn.pipeline import Pipeline\n",
    "import random"
   ]
  },
  {
   "cell_type": "code",
   "execution_count": 2,
   "metadata": {
    "_cell_guid": "79c7e3d0-c299-4dcb-8224-4455121ee9b0",
    "_uuid": "d629ff2d2480ee46fbb7e2d37f6b5fab8052498a",
    "execution": {
     "iopub.execute_input": "2020-08-27T14:32:32.355130Z",
     "iopub.status.busy": "2020-08-27T14:32:32.354459Z",
     "iopub.status.idle": "2020-08-27T14:32:32.421834Z",
     "shell.execute_reply": "2020-08-27T14:32:32.422390Z"
    },
    "id": "agSFJvhozGyY",
    "outputId": "d92bb083-7fc3-49d4-e636-4acf678aec0b",
    "papermill": {
     "duration": 0.0949,
     "end_time": "2020-08-27T14:32:32.422552",
     "exception": false,
     "start_time": "2020-08-27T14:32:32.327652",
     "status": "completed"
    },
    "tags": []
   },
   "outputs": [
    {
     "data": {
      "text/html": [
       "<div>\n",
       "<style scoped>\n",
       "    .dataframe tbody tr th:only-of-type {\n",
       "        vertical-align: middle;\n",
       "    }\n",
       "\n",
       "    .dataframe tbody tr th {\n",
       "        vertical-align: top;\n",
       "    }\n",
       "\n",
       "    .dataframe thead th {\n",
       "        text-align: right;\n",
       "    }\n",
       "</style>\n",
       "<table border=\"1\" class=\"dataframe\">\n",
       "  <thead>\n",
       "    <tr style=\"text-align: right;\">\n",
       "      <th></th>\n",
       "      <th>Unnamed: 0</th>\n",
       "      <th>months_as_customer</th>\n",
       "      <th>age</th>\n",
       "      <th>policy_number</th>\n",
       "      <th>policy_bind_date</th>\n",
       "      <th>policy_state</th>\n",
       "      <th>policy_csl</th>\n",
       "      <th>policy_deductable</th>\n",
       "      <th>policy_annual_premium</th>\n",
       "      <th>umbrella_limit</th>\n",
       "      <th>...</th>\n",
       "      <th>police_report_available</th>\n",
       "      <th>total_claim_amount</th>\n",
       "      <th>injury_claim</th>\n",
       "      <th>property_claim</th>\n",
       "      <th>vehicle_claim</th>\n",
       "      <th>auto_make</th>\n",
       "      <th>auto_model</th>\n",
       "      <th>auto_year</th>\n",
       "      <th>fraud_reported</th>\n",
       "      <th>_c39</th>\n",
       "    </tr>\n",
       "  </thead>\n",
       "  <tbody>\n",
       "    <tr>\n",
       "      <th>0</th>\n",
       "      <td>0</td>\n",
       "      <td>328</td>\n",
       "      <td>48.0</td>\n",
       "      <td>521585</td>\n",
       "      <td>2014-10-17</td>\n",
       "      <td>OH</td>\n",
       "      <td>250/500</td>\n",
       "      <td>1000</td>\n",
       "      <td>1406.91</td>\n",
       "      <td>0.0</td>\n",
       "      <td>...</td>\n",
       "      <td>YES</td>\n",
       "      <td>71610</td>\n",
       "      <td>6510</td>\n",
       "      <td>13020</td>\n",
       "      <td>52080</td>\n",
       "      <td>Saab</td>\n",
       "      <td>92x</td>\n",
       "      <td>2004</td>\n",
       "      <td>Y</td>\n",
       "      <td>NaN</td>\n",
       "    </tr>\n",
       "    <tr>\n",
       "      <th>1</th>\n",
       "      <td>1</td>\n",
       "      <td>228</td>\n",
       "      <td>42.0</td>\n",
       "      <td>342868</td>\n",
       "      <td>2006-06-27</td>\n",
       "      <td>IN</td>\n",
       "      <td>250/500</td>\n",
       "      <td>2000</td>\n",
       "      <td>1197.22</td>\n",
       "      <td>5000000.0</td>\n",
       "      <td>...</td>\n",
       "      <td>?</td>\n",
       "      <td>5070</td>\n",
       "      <td>780</td>\n",
       "      <td>780</td>\n",
       "      <td>3510</td>\n",
       "      <td>Mercedes</td>\n",
       "      <td>E400</td>\n",
       "      <td>2007</td>\n",
       "      <td>Y</td>\n",
       "      <td>NaN</td>\n",
       "    </tr>\n",
       "    <tr>\n",
       "      <th>2</th>\n",
       "      <td>2</td>\n",
       "      <td>134</td>\n",
       "      <td>29.0</td>\n",
       "      <td>687698</td>\n",
       "      <td>2000-09-06</td>\n",
       "      <td>OH</td>\n",
       "      <td>NaN</td>\n",
       "      <td>2000</td>\n",
       "      <td>1413.14</td>\n",
       "      <td>5000000.0</td>\n",
       "      <td>...</td>\n",
       "      <td>NaN</td>\n",
       "      <td>34650</td>\n",
       "      <td>7700</td>\n",
       "      <td>3850</td>\n",
       "      <td>23100</td>\n",
       "      <td>Dodge</td>\n",
       "      <td>RAM</td>\n",
       "      <td>2007</td>\n",
       "      <td>N</td>\n",
       "      <td>NaN</td>\n",
       "    </tr>\n",
       "    <tr>\n",
       "      <th>3</th>\n",
       "      <td>3</td>\n",
       "      <td>256</td>\n",
       "      <td>41.0</td>\n",
       "      <td>227811</td>\n",
       "      <td>1990-05-25</td>\n",
       "      <td>IL</td>\n",
       "      <td>NaN</td>\n",
       "      <td>2000</td>\n",
       "      <td>1415.74</td>\n",
       "      <td>6000000.0</td>\n",
       "      <td>...</td>\n",
       "      <td>NO</td>\n",
       "      <td>63400</td>\n",
       "      <td>6340</td>\n",
       "      <td>6340</td>\n",
       "      <td>50720</td>\n",
       "      <td>Chevrolet</td>\n",
       "      <td>Tahoe</td>\n",
       "      <td>2014</td>\n",
       "      <td>Y</td>\n",
       "      <td>NaN</td>\n",
       "    </tr>\n",
       "    <tr>\n",
       "      <th>4</th>\n",
       "      <td>4</td>\n",
       "      <td>228</td>\n",
       "      <td>44.0</td>\n",
       "      <td>367455</td>\n",
       "      <td>2014-06-06</td>\n",
       "      <td>IL</td>\n",
       "      <td>NaN</td>\n",
       "      <td>1000</td>\n",
       "      <td>1583.91</td>\n",
       "      <td>6000000.0</td>\n",
       "      <td>...</td>\n",
       "      <td>NaN</td>\n",
       "      <td>6500</td>\n",
       "      <td>1300</td>\n",
       "      <td>650</td>\n",
       "      <td>4550</td>\n",
       "      <td>Accura</td>\n",
       "      <td>RSX</td>\n",
       "      <td>2009</td>\n",
       "      <td>N</td>\n",
       "      <td>NaN</td>\n",
       "    </tr>\n",
       "  </tbody>\n",
       "</table>\n",
       "<p>5 rows × 41 columns</p>\n",
       "</div>"
      ],
      "text/plain": [
       "   Unnamed: 0  months_as_customer   age  policy_number policy_bind_date  \\\n",
       "0           0                 328  48.0         521585       2014-10-17   \n",
       "1           1                 228  42.0         342868       2006-06-27   \n",
       "2           2                 134  29.0         687698       2000-09-06   \n",
       "3           3                 256  41.0         227811       1990-05-25   \n",
       "4           4                 228  44.0         367455       2014-06-06   \n",
       "\n",
       "  policy_state policy_csl  policy_deductable  policy_annual_premium  \\\n",
       "0           OH    250/500               1000                1406.91   \n",
       "1           IN    250/500               2000                1197.22   \n",
       "2           OH        NaN               2000                1413.14   \n",
       "3           IL        NaN               2000                1415.74   \n",
       "4           IL        NaN               1000                1583.91   \n",
       "\n",
       "   umbrella_limit  ...  police_report_available total_claim_amount  \\\n",
       "0             0.0  ...                      YES              71610   \n",
       "1       5000000.0  ...                        ?               5070   \n",
       "2       5000000.0  ...                      NaN              34650   \n",
       "3       6000000.0  ...                       NO              63400   \n",
       "4       6000000.0  ...                      NaN               6500   \n",
       "\n",
       "  injury_claim property_claim vehicle_claim  auto_make  auto_model  auto_year  \\\n",
       "0         6510          13020         52080       Saab         92x       2004   \n",
       "1          780            780          3510   Mercedes        E400       2007   \n",
       "2         7700           3850         23100      Dodge         RAM       2007   \n",
       "3         6340           6340         50720  Chevrolet       Tahoe       2014   \n",
       "4         1300            650          4550     Accura         RSX       2009   \n",
       "\n",
       "  fraud_reported _c39  \n",
       "0              Y  NaN  \n",
       "1              Y  NaN  \n",
       "2              N  NaN  \n",
       "3              Y  NaN  \n",
       "4              N  NaN  \n",
       "\n",
       "[5 rows x 41 columns]"
      ]
     },
     "execution_count": 2,
     "metadata": {},
     "output_type": "execute_result"
    }
   ],
   "source": [
    "df = pd.read_csv('auto_insurance_csv.csv')\n",
    "df.head()"
   ]
  },
  {
   "cell_type": "code",
   "execution_count": 3,
   "metadata": {
    "execution": {
     "iopub.execute_input": "2020-08-27T14:32:32.640818Z",
     "iopub.status.busy": "2020-08-27T14:32:32.640146Z",
     "iopub.status.idle": "2020-08-27T14:32:32.652991Z",
     "shell.execute_reply": "2020-08-27T14:32:32.652268Z"
    },
    "id": "LQAvaeP3zGyp",
    "papermill": {
     "duration": 0.040383,
     "end_time": "2020-08-27T14:32:32.653111",
     "exception": false,
     "start_time": "2020-08-27T14:32:32.612728",
     "status": "completed"
    },
    "tags": []
   },
   "outputs": [],
   "source": [
    "# removing column named _c39 as it contains only null values\n",
    "\n",
    "df = df.drop(['_c39','Unnamed: 0'], axis = 1)"
   ]
  },
  {
   "cell_type": "code",
   "execution_count": 4,
   "metadata": {},
   "outputs": [
    {
     "data": {
      "text/html": [
       "<div>\n",
       "<style scoped>\n",
       "    .dataframe tbody tr th:only-of-type {\n",
       "        vertical-align: middle;\n",
       "    }\n",
       "\n",
       "    .dataframe tbody tr th {\n",
       "        vertical-align: top;\n",
       "    }\n",
       "\n",
       "    .dataframe thead th {\n",
       "        text-align: right;\n",
       "    }\n",
       "</style>\n",
       "<table border=\"1\" class=\"dataframe\">\n",
       "  <thead>\n",
       "    <tr style=\"text-align: right;\">\n",
       "      <th></th>\n",
       "      <th>policy_number</th>\n",
       "    </tr>\n",
       "    <tr>\n",
       "      <th>umbrella_limit</th>\n",
       "      <th></th>\n",
       "    </tr>\n",
       "  </thead>\n",
       "  <tbody>\n",
       "    <tr>\n",
       "      <th>-1000000.0</th>\n",
       "      <td>1</td>\n",
       "    </tr>\n",
       "    <tr>\n",
       "      <th>0.0</th>\n",
       "      <td>640</td>\n",
       "    </tr>\n",
       "    <tr>\n",
       "      <th>2000000.0</th>\n",
       "      <td>3</td>\n",
       "    </tr>\n",
       "    <tr>\n",
       "      <th>3000000.0</th>\n",
       "      <td>7</td>\n",
       "    </tr>\n",
       "    <tr>\n",
       "      <th>4000000.0</th>\n",
       "      <td>33</td>\n",
       "    </tr>\n",
       "    <tr>\n",
       "      <th>5000000.0</th>\n",
       "      <td>35</td>\n",
       "    </tr>\n",
       "    <tr>\n",
       "      <th>6000000.0</th>\n",
       "      <td>45</td>\n",
       "    </tr>\n",
       "    <tr>\n",
       "      <th>7000000.0</th>\n",
       "      <td>27</td>\n",
       "    </tr>\n",
       "    <tr>\n",
       "      <th>8000000.0</th>\n",
       "      <td>6</td>\n",
       "    </tr>\n",
       "    <tr>\n",
       "      <th>9000000.0</th>\n",
       "      <td>5</td>\n",
       "    </tr>\n",
       "    <tr>\n",
       "      <th>9999</th>\n",
       "      <td>198</td>\n",
       "    </tr>\n",
       "  </tbody>\n",
       "</table>\n",
       "</div>"
      ],
      "text/plain": [
       "                policy_number\n",
       "umbrella_limit               \n",
       "-1000000.0                  1\n",
       "0.0                       640\n",
       "2000000.0                   3\n",
       "3000000.0                   7\n",
       "4000000.0                  33\n",
       "5000000.0                  35\n",
       "6000000.0                  45\n",
       "7000000.0                  27\n",
       "8000000.0                   6\n",
       "9000000.0                   5\n",
       "9999                      198"
      ]
     },
     "execution_count": 4,
     "metadata": {},
     "output_type": "execute_result"
    }
   ],
   "source": [
    "df['umbrella_limit'] = df.umbrella_limit.fillna(\"9999\")\n",
    "df.groupby(['umbrella_limit']).agg({'policy_number': 'count'})"
   ]
  },
  {
   "cell_type": "code",
   "execution_count": 5,
   "metadata": {},
   "outputs": [
    {
     "data": {
      "text/html": [
       "<div>\n",
       "<style scoped>\n",
       "    .dataframe tbody tr th:only-of-type {\n",
       "        vertical-align: middle;\n",
       "    }\n",
       "\n",
       "    .dataframe tbody tr th {\n",
       "        vertical-align: top;\n",
       "    }\n",
       "\n",
       "    .dataframe thead th {\n",
       "        text-align: right;\n",
       "    }\n",
       "</style>\n",
       "<table border=\"1\" class=\"dataframe\">\n",
       "  <thead>\n",
       "    <tr style=\"text-align: right;\">\n",
       "      <th></th>\n",
       "      <th>policy_number</th>\n",
       "    </tr>\n",
       "    <tr>\n",
       "      <th>police_report_available</th>\n",
       "      <th></th>\n",
       "    </tr>\n",
       "  </thead>\n",
       "  <tbody>\n",
       "    <tr>\n",
       "      <th>?</th>\n",
       "      <td>257</td>\n",
       "    </tr>\n",
       "    <tr>\n",
       "      <th>MISSING</th>\n",
       "      <td>250</td>\n",
       "    </tr>\n",
       "    <tr>\n",
       "      <th>NO</th>\n",
       "      <td>262</td>\n",
       "    </tr>\n",
       "    <tr>\n",
       "      <th>YES</th>\n",
       "      <td>231</td>\n",
       "    </tr>\n",
       "  </tbody>\n",
       "</table>\n",
       "</div>"
      ],
      "text/plain": [
       "                         policy_number\n",
       "police_report_available               \n",
       "?                                  257\n",
       "MISSING                            250\n",
       "NO                                 262\n",
       "YES                                231"
      ]
     },
     "execution_count": 5,
     "metadata": {},
     "output_type": "execute_result"
    }
   ],
   "source": [
    "df['police_report_available'] = df.police_report_available.fillna(\"MISSING\")\n",
    "df.groupby(['police_report_available']).agg({'policy_number': 'count'})\n"
   ]
  },
  {
   "cell_type": "code",
   "execution_count": 6,
   "metadata": {},
   "outputs": [
    {
     "data": {
      "text/html": [
       "<div>\n",
       "<style scoped>\n",
       "    .dataframe tbody tr th:only-of-type {\n",
       "        vertical-align: middle;\n",
       "    }\n",
       "\n",
       "    .dataframe tbody tr th {\n",
       "        vertical-align: top;\n",
       "    }\n",
       "\n",
       "    .dataframe thead th {\n",
       "        text-align: right;\n",
       "    }\n",
       "</style>\n",
       "<table border=\"1\" class=\"dataframe\">\n",
       "  <thead>\n",
       "    <tr style=\"text-align: right;\">\n",
       "      <th></th>\n",
       "      <th>policy_number</th>\n",
       "    </tr>\n",
       "    <tr>\n",
       "      <th>policy_csl</th>\n",
       "      <th></th>\n",
       "    </tr>\n",
       "  </thead>\n",
       "  <tbody>\n",
       "    <tr>\n",
       "      <th>100/300</th>\n",
       "      <td>44</td>\n",
       "    </tr>\n",
       "    <tr>\n",
       "      <th>250/500</th>\n",
       "      <td>43</td>\n",
       "    </tr>\n",
       "    <tr>\n",
       "      <th>500/1000</th>\n",
       "      <td>40</td>\n",
       "    </tr>\n",
       "    <tr>\n",
       "      <th>MISSING</th>\n",
       "      <td>873</td>\n",
       "    </tr>\n",
       "  </tbody>\n",
       "</table>\n",
       "</div>"
      ],
      "text/plain": [
       "            policy_number\n",
       "policy_csl               \n",
       "100/300                44\n",
       "250/500                43\n",
       "500/1000               40\n",
       "MISSING               873"
      ]
     },
     "execution_count": 6,
     "metadata": {},
     "output_type": "execute_result"
    }
   ],
   "source": [
    "df['policy_csl'] = df.policy_csl.fillna(\"MISSING\")\n",
    "df.groupby(['policy_csl']).agg({'policy_number': 'count'})\n"
   ]
  },
  {
   "cell_type": "code",
   "execution_count": 7,
   "metadata": {
    "execution": {
     "iopub.execute_input": "2020-08-27T14:32:32.838626Z",
     "iopub.status.busy": "2020-08-27T14:32:32.837837Z",
     "iopub.status.idle": "2020-08-27T14:32:32.845255Z",
     "shell.execute_reply": "2020-08-27T14:32:32.845817Z"
    },
    "id": "3HhLGk0DzGy3",
    "papermill": {
     "duration": 0.036693,
     "end_time": "2020-08-27T14:32:32.845967",
     "exception": false,
     "start_time": "2020-08-27T14:32:32.809274",
     "status": "completed"
    },
    "tags": []
   },
   "outputs": [],
   "source": [
    "df['policy_bind_date'] = pd.to_datetime(df['policy_bind_date'])\n",
    "df['incident_date'] = pd.to_datetime(df['incident_date'])\n",
    "df['claim_day_of_policy'] = (df.incident_date -  df.policy_bind_date).dt.days\n"
   ]
  },
  {
   "cell_type": "code",
   "execution_count": 8,
   "metadata": {},
   "outputs": [],
   "source": [
    "df['location_check'] = np.nan\n",
    "df['location_check'] = np.where(df['policy_state'] == df['incident_state'], True, False)"
   ]
  },
  {
   "cell_type": "code",
   "execution_count": 9,
   "metadata": {
    "execution": {
     "iopub.execute_input": "2020-08-27T14:32:33.031285Z",
     "iopub.status.busy": "2020-08-27T14:32:33.030203Z",
     "iopub.status.idle": "2020-08-27T14:32:33.049542Z",
     "shell.execute_reply": "2020-08-27T14:32:33.050375Z"
    },
    "id": "OkLLxH36zGzE",
    "outputId": "9a4bc6c9-fd58-4ae1-a532-a401c763b27e",
    "papermill": {
     "duration": 0.054007,
     "end_time": "2020-08-27T14:32:33.050612",
     "exception": false,
     "start_time": "2020-08-27T14:32:32.996605",
     "status": "completed"
    },
    "tags": []
   },
   "outputs": [
    {
     "name": "stdout",
     "output_type": "stream",
     "text": [
      "policy_state : 3\n",
      "policy_csl : 4\n",
      "umbrella_limit : 11\n",
      "insured_sex : 2\n",
      "insured_education_level : 7\n",
      "insured_occupation : 14\n",
      "insured_hobbies : 20\n",
      "insured_relationship : 6\n",
      "incident_type : 4\n",
      "collision_type : 4\n",
      "incident_severity : 4\n",
      "authorities_contacted : 5\n",
      "incident_state : 7\n",
      "incident_city : 7\n",
      "incident_location : 1000\n",
      "property_damage : 3\n",
      "police_report_available : 4\n",
      "auto_make : 14\n",
      "auto_model : 39\n",
      "fraud_reported : 2\n"
     ]
    }
   ],
   "source": [
    "for i in df.columns:\n",
    "    if df[i].dtype == 'object':\n",
    "        print(i, \":\", df[i].nunique())"
   ]
  },
  {
   "cell_type": "code",
   "execution_count": 10,
   "metadata": {},
   "outputs": [],
   "source": [
    "df = df.drop(['policy_bind_date','incident_date'],axis=1)"
   ]
  },
  {
   "cell_type": "code",
   "execution_count": 11,
   "metadata": {
    "execution": {
     "iopub.execute_input": "2020-08-27T14:32:33.384847Z",
     "iopub.status.busy": "2020-08-27T14:32:33.384050Z",
     "iopub.status.idle": "2020-08-27T14:32:33.387624Z",
     "shell.execute_reply": "2020-08-27T14:32:33.386902Z"
    },
    "id": "V6kRJ2eezGzX",
    "papermill": {
     "duration": 0.040708,
     "end_time": "2020-08-27T14:32:33.387756",
     "exception": false,
     "start_time": "2020-08-27T14:32:33.347048",
     "status": "completed"
    },
    "tags": []
   },
   "outputs": [],
   "source": [
    "df['fraud_reported'] = df['fraud_reported'].str.replace('Y', '1')\n",
    "df['fraud_reported'] = df['fraud_reported'].str.replace('N', '0')\n",
    "df['fraud_reported'] = df['fraud_reported'].astype(int)"
   ]
  },
  {
   "cell_type": "code",
   "execution_count": 12,
   "metadata": {},
   "outputs": [],
   "source": [
    "df['umbrella_limit'] = df.umbrella_limit.astype(str)\n"
   ]
  },
  {
   "cell_type": "code",
   "execution_count": 13,
   "metadata": {},
   "outputs": [
    {
     "name": "stderr",
     "output_type": "stream",
     "text": [
      "C:\\Users\\bilal\\AppData\\Local\\Temp/ipykernel_11188/3037549493.py:4: FutureWarning: The default value of regex will change from True to False in a future version.\n",
      "  df['umbrella_limit'] = df['umbrella_limit'].str.replace(umb, 'other')\n"
     ]
    },
    {
     "data": {
      "text/plain": [
       "array(['0.0', 'other', '9999'], dtype=object)"
      ]
     },
     "execution_count": 13,
     "metadata": {},
     "output_type": "execute_result"
    }
   ],
   "source": [
    "umbrealla = df['umbrella_limit'].unique()\n",
    "for umb in umbrealla:\n",
    "  if (umb != '0.0') & (umb != '9999'):\n",
    "    df['umbrella_limit'] = df['umbrella_limit'].str.replace(umb, 'other')\n",
    "\n",
    "df['umbrella_limit'].unique()"
   ]
  },
  {
   "cell_type": "code",
   "execution_count": 14,
   "metadata": {
    "execution": {
     "iopub.execute_input": "2020-08-27T14:32:35.274204Z",
     "iopub.status.busy": "2020-08-27T14:32:35.270551Z",
     "iopub.status.idle": "2020-08-27T14:32:35.291018Z",
     "shell.execute_reply": "2020-08-27T14:32:35.290435Z"
    },
    "id": "dKQiLS8UY7vQ",
    "outputId": "9ca7d35f-8a00-460c-c6d2-293283acbbc9",
    "papermill": {
     "duration": 0.070267,
     "end_time": "2020-08-27T14:32:35.291130",
     "exception": false,
     "start_time": "2020-08-27T14:32:35.220863",
     "status": "completed"
    },
    "tags": []
   },
   "outputs": [
    {
     "data": {
      "text/plain": [
       "array(['other', 'chess', 'cross-fit'], dtype=object)"
      ]
     },
     "execution_count": 14,
     "metadata": {},
     "output_type": "execute_result"
    }
   ],
   "source": [
    "hobbies = df['insured_hobbies'].unique()\n",
    "for hobby in hobbies:\n",
    "  if (hobby != 'chess') & (hobby != 'cross-fit'):\n",
    "    df['insured_hobbies'] = df['insured_hobbies'].str.replace(hobby, 'other')\n",
    "\n",
    "df['insured_hobbies'].unique()"
   ]
  },
  {
   "cell_type": "code",
   "execution_count": 15,
   "metadata": {},
   "outputs": [],
   "source": [
    "df['age'] = df.age.fillna(9999)"
   ]
  },
  {
   "cell_type": "code",
   "execution_count": 16,
   "metadata": {
    "execution": {
     "iopub.execute_input": "2020-08-27T14:32:36.777588Z",
     "iopub.status.busy": "2020-08-27T14:32:36.776866Z",
     "iopub.status.idle": "2020-08-27T14:32:36.782509Z",
     "shell.execute_reply": "2020-08-27T14:32:36.783054Z"
    },
    "id": "fZznzYzfgr45",
    "papermill": {
     "duration": 0.044465,
     "end_time": "2020-08-27T14:32:36.783227",
     "exception": false,
     "start_time": "2020-08-27T14:32:36.738762",
     "status": "completed"
    },
    "tags": []
   },
   "outputs": [],
   "source": [
    "bin_labels = ['15-20', '21-25', '26-30', '31-35', '36-40', '41-45', '46-50', '51-55', '56-60', '61-65','9999']\n",
    "bins = [15, 20, 25, 30, 35, 40, 45, 50, 55, 60, 65, 9999]\n",
    "\n",
    "df['age_group'] = pd.cut(df['age'], bins = bins, labels = bin_labels, include_lowest = True)"
   ]
  },
  {
   "cell_type": "code",
   "execution_count": 17,
   "metadata": {
    "execution": {
     "iopub.execute_input": "2020-08-27T14:32:37.285693Z",
     "iopub.status.busy": "2020-08-27T14:32:37.283667Z",
     "iopub.status.idle": "2020-08-27T14:32:37.291010Z",
     "shell.execute_reply": "2020-08-27T14:32:37.290433Z"
    },
    "id": "EAz5qiiNjG8r",
    "papermill": {
     "duration": 0.047307,
     "end_time": "2020-08-27T14:32:37.291130",
     "exception": false,
     "start_time": "2020-08-27T14:32:37.243823",
     "status": "completed"
    },
    "tags": []
   },
   "outputs": [],
   "source": [
    "bins = [0, 50, 100, 150, 200, 250, 300, 350, 400, 450, 500]\n",
    "bin_labels = ['0-50','51-100','101-150','151-200','201-250','251-300','301-350','351-400','401-450','451-500']\n",
    "\n",
    "df['months_as_customer_groups'] = pd.cut(df['months_as_customer'], bins = 10, labels = bin_labels, include_lowest= True)"
   ]
  },
  {
   "cell_type": "code",
   "execution_count": 18,
   "metadata": {
    "execution": {
     "iopub.execute_input": "2020-08-27T14:32:38.495900Z",
     "iopub.status.busy": "2020-08-27T14:32:38.494825Z",
     "iopub.status.idle": "2020-08-27T14:32:38.504107Z",
     "shell.execute_reply": "2020-08-27T14:32:38.504686Z"
    },
    "id": "7anNKkF-WOP4",
    "papermill": {
     "duration": 0.04936,
     "end_time": "2020-08-27T14:32:38.504850",
     "exception": false,
     "start_time": "2020-08-27T14:32:38.455490",
     "status": "completed"
    },
    "tags": []
   },
   "outputs": [],
   "source": [
    "bins = list(np.linspace(0,2500, 6, dtype = int))\n",
    "bin_labels = ['very low', 'low', 'medium', 'high', 'very high']\n",
    "\n",
    "df['policy_annual_premium_groups'] = pd.cut(df['policy_annual_premium'], bins = bins, labels=bin_labels)"
   ]
  },
  {
   "cell_type": "code",
   "execution_count": 19,
   "metadata": {
    "execution": {
     "iopub.execute_input": "2020-08-27T14:32:38.772403Z",
     "iopub.status.busy": "2020-08-27T14:32:38.771669Z",
     "iopub.status.idle": "2020-08-27T14:32:38.809706Z",
     "shell.execute_reply": "2020-08-27T14:32:38.809023Z"
    },
    "id": "I4I5nPWu1i97",
    "outputId": "c90e1c73-4bb1-49ac-90b8-5b9709c40c3a",
    "papermill": {
     "duration": 0.077196,
     "end_time": "2020-08-27T14:32:38.809834",
     "exception": false,
     "start_time": "2020-08-27T14:32:38.732638",
     "status": "completed"
    },
    "tags": []
   },
   "outputs": [],
   "source": [
    "bins = list(np.linspace(0,2000, 5, dtype = int))\n",
    "bin_labels = ['0-500', '501-1000', '1001-1500', '1501-2000']\n",
    "\n",
    "df['policy_deductable_group'] = pd.cut(df['policy_deductable'], bins = bins, labels = bin_labels)\n",
    "\n"
   ]
  },
  {
   "cell_type": "code",
   "execution_count": 20,
   "metadata": {
    "execution": {
     "iopub.execute_input": "2020-08-27T14:32:39.087971Z",
     "iopub.status.busy": "2020-08-27T14:32:39.087198Z",
     "iopub.status.idle": "2020-08-27T14:32:39.096046Z",
     "shell.execute_reply": "2020-08-27T14:32:39.096568Z"
    },
    "id": "m8Q4GgIRzG0h",
    "outputId": "c0f9bd18-3f79-4664-c028-f227d571bd6c",
    "papermill": {
     "duration": 0.050018,
     "end_time": "2020-08-27T14:32:39.096730",
     "exception": false,
     "start_time": "2020-08-27T14:32:39.046712",
     "status": "completed"
    },
    "tags": []
   },
   "outputs": [
    {
     "data": {
      "text/plain": [
       "Index(['policy_number', 'policy_state', 'policy_csl', 'umbrella_limit',\n",
       "       'insured_zip', 'insured_sex', 'insured_education_level',\n",
       "       'insured_occupation', 'insured_hobbies', 'insured_relationship',\n",
       "       'capital-gains', 'capital-loss', 'incident_type', 'collision_type',\n",
       "       'incident_severity', 'authorities_contacted', 'incident_state',\n",
       "       'incident_city', 'incident_location', 'incident_hour_of_the_day',\n",
       "       'number_of_vehicles_involved', 'property_damage', 'bodily_injuries',\n",
       "       'witnesses', 'police_report_available', 'total_claim_amount',\n",
       "       'injury_claim', 'property_claim', 'vehicle_claim', 'auto_make',\n",
       "       'auto_model', 'auto_year', 'fraud_reported', 'claim_day_of_policy',\n",
       "       'location_check', 'age_group', 'months_as_customer_groups',\n",
       "       'policy_annual_premium_groups', 'policy_deductable_group'],\n",
       "      dtype='object')"
      ]
     },
     "execution_count": 20,
     "metadata": {},
     "output_type": "execute_result"
    }
   ],
   "source": [
    "#removing columns for which we created groups\n",
    "df = df.drop(['age', 'months_as_customer', 'policy_deductable', 'policy_annual_premium'], axis = 1)\n",
    "df.columns"
   ]
  },
  {
   "cell_type": "code",
   "execution_count": 21,
   "metadata": {
    "execution": {
     "iopub.execute_input": "2020-08-27T14:32:39.255433Z",
     "iopub.status.busy": "2020-08-27T14:32:39.254513Z",
     "iopub.status.idle": "2020-08-27T14:32:39.257948Z",
     "shell.execute_reply": "2020-08-27T14:32:39.258765Z"
    },
    "id": "zWXcvt7rzG0l",
    "outputId": "ef0d8640-b06e-4fa9-a9ef-a6da0925ccdd",
    "papermill": {
     "duration": 0.048964,
     "end_time": "2020-08-27T14:32:39.258978",
     "exception": false,
     "start_time": "2020-08-27T14:32:39.210014",
     "status": "completed"
    },
    "tags": []
   },
   "outputs": [
    {
     "name": "stdout",
     "output_type": "stream",
     "text": [
      "39\n",
      "39\n"
     ]
    }
   ],
   "source": [
    "required_columns = ['policy_number', 'policy_state', 'policy_csl', 'umbrella_limit',\n",
    "       'insured_zip', 'insured_sex', 'insured_education_level',\n",
    "       'insured_occupation', 'insured_hobbies', 'insured_relationship',\n",
    "       'capital-gains', 'capital-loss', 'incident_type', 'collision_type',\n",
    "       'incident_severity', 'authorities_contacted', 'incident_state',\n",
    "       'incident_city', 'incident_location', 'incident_hour_of_the_day',\n",
    "       'number_of_vehicles_involved', 'property_damage', 'bodily_injuries',\n",
    "       'witnesses', 'police_report_available', 'total_claim_amount',\n",
    "       'injury_claim', 'property_claim', 'vehicle_claim', 'auto_make',\n",
    "       'auto_model', 'auto_year', 'fraud_reported', 'claim_day_of_policy',\n",
    "       'location_check', 'age_group', 'months_as_customer_groups',\n",
    "       'policy_annual_premium_groups', 'policy_deductable_group']\n",
    "\n",
    "print(len(required_columns))\n",
    "print(len(df.columns))"
   ]
  },
  {
   "cell_type": "code",
   "execution_count": 22,
   "metadata": {
    "execution": {
     "iopub.execute_input": "2020-08-27T14:32:39.345683Z",
     "iopub.status.busy": "2020-08-27T14:32:39.344914Z",
     "iopub.status.idle": "2020-08-27T14:32:39.364286Z",
     "shell.execute_reply": "2020-08-27T14:32:39.364926Z"
    },
    "id": "eHqLMfp35iDw",
    "outputId": "bceef229-90aa-4913-f169-3ea68a21343a",
    "papermill": {
     "duration": 0.067441,
     "end_time": "2020-08-27T14:32:39.365092",
     "exception": false,
     "start_time": "2020-08-27T14:32:39.297651",
     "status": "completed"
    },
    "tags": []
   },
   "outputs": [],
   "source": [
    "df1 = df[required_columns]\n",
    "\n",
    "corr_matrix = df1.corr()\n",
    "\n"
   ]
  },
  {
   "cell_type": "markdown",
   "metadata": {
    "papermill": {
     "duration": 0.038505,
     "end_time": "2020-08-27T14:32:39.606597",
     "exception": false,
     "start_time": "2020-08-27T14:32:39.568092",
     "status": "completed"
    },
    "tags": []
   },
   "source": [
    "Keeping only the `total_claim_amount` column from these."
   ]
  },
  {
   "cell_type": "code",
   "execution_count": 23,
   "metadata": {
    "execution": {
     "iopub.execute_input": "2020-08-27T14:32:39.691261Z",
     "iopub.status.busy": "2020-08-27T14:32:39.690418Z",
     "iopub.status.idle": "2020-08-27T14:32:39.694209Z",
     "shell.execute_reply": "2020-08-27T14:32:39.693601Z"
    },
    "id": "hivIh0mR45nM",
    "outputId": "adfa36d6-120d-409e-8d10-1d48d02e4a08",
    "papermill": {
     "duration": 0.04917,
     "end_time": "2020-08-27T14:32:39.694329",
     "exception": false,
     "start_time": "2020-08-27T14:32:39.645159",
     "status": "completed"
    },
    "tags": []
   },
   "outputs": [
    {
     "name": "stdout",
     "output_type": "stream",
     "text": [
      "35\n"
     ]
    }
   ],
   "source": [
    "required_columns = ['policy_state', 'policy_csl', 'umbrella_limit',\n",
    "       'insured_zip', 'insured_sex', 'insured_education_level',\n",
    "       'insured_occupation', 'insured_hobbies', 'insured_relationship',\n",
    "       'capital-gains', 'capital-loss', 'incident_type', 'collision_type',\n",
    "       'incident_severity', 'authorities_contacted', 'incident_state',\n",
    "       'incident_city', 'incident_location', 'incident_hour_of_the_day',\n",
    "       'number_of_vehicles_involved', 'property_damage', 'bodily_injuries',\n",
    "       'witnesses', 'police_report_available', 'total_claim_amount','auto_make',\n",
    "       'auto_model', 'auto_year', 'fraud_reported', 'claim_day_of_policy',\n",
    "       'location_check', 'age_group', 'months_as_customer_groups',\n",
    "       'policy_annual_premium_groups', 'policy_deductable_group']\n",
    "\n",
    "print(len(required_columns))"
   ]
  },
  {
   "cell_type": "code",
   "execution_count": 24,
   "metadata": {
    "execution": {
     "iopub.execute_input": "2020-08-27T14:32:39.795034Z",
     "iopub.status.busy": "2020-08-27T14:32:39.794241Z",
     "iopub.status.idle": "2020-08-27T14:32:39.798028Z",
     "shell.execute_reply": "2020-08-27T14:32:39.798589Z"
    },
    "id": "9ewqPQNQ85MN",
    "outputId": "5c217dc6-9d93-4839-a566-5c293d487b59",
    "papermill": {
     "duration": 0.066483,
     "end_time": "2020-08-27T14:32:39.798743",
     "exception": false,
     "start_time": "2020-08-27T14:32:39.732260",
     "status": "completed"
    },
    "tags": []
   },
   "outputs": [
    {
     "data": {
      "text/html": [
       "<div>\n",
       "<style scoped>\n",
       "    .dataframe tbody tr th:only-of-type {\n",
       "        vertical-align: middle;\n",
       "    }\n",
       "\n",
       "    .dataframe tbody tr th {\n",
       "        vertical-align: top;\n",
       "    }\n",
       "\n",
       "    .dataframe thead th {\n",
       "        text-align: right;\n",
       "    }\n",
       "</style>\n",
       "<table border=\"1\" class=\"dataframe\">\n",
       "  <thead>\n",
       "    <tr style=\"text-align: right;\">\n",
       "      <th></th>\n",
       "      <th>policy_state</th>\n",
       "      <th>policy_csl</th>\n",
       "      <th>umbrella_limit</th>\n",
       "      <th>insured_zip</th>\n",
       "      <th>insured_sex</th>\n",
       "      <th>insured_education_level</th>\n",
       "      <th>insured_occupation</th>\n",
       "      <th>insured_hobbies</th>\n",
       "      <th>insured_relationship</th>\n",
       "      <th>capital-gains</th>\n",
       "      <th>...</th>\n",
       "      <th>auto_make</th>\n",
       "      <th>auto_model</th>\n",
       "      <th>auto_year</th>\n",
       "      <th>fraud_reported</th>\n",
       "      <th>claim_day_of_policy</th>\n",
       "      <th>location_check</th>\n",
       "      <th>age_group</th>\n",
       "      <th>months_as_customer_groups</th>\n",
       "      <th>policy_annual_premium_groups</th>\n",
       "      <th>policy_deductable_group</th>\n",
       "    </tr>\n",
       "  </thead>\n",
       "  <tbody>\n",
       "    <tr>\n",
       "      <th>0</th>\n",
       "      <td>OH</td>\n",
       "      <td>250/500</td>\n",
       "      <td>0.0</td>\n",
       "      <td>466132</td>\n",
       "      <td>MALE</td>\n",
       "      <td>MD</td>\n",
       "      <td>craft-repair</td>\n",
       "      <td>other</td>\n",
       "      <td>husband</td>\n",
       "      <td>53300</td>\n",
       "      <td>...</td>\n",
       "      <td>Saab</td>\n",
       "      <td>92x</td>\n",
       "      <td>2004</td>\n",
       "      <td>1</td>\n",
       "      <td>100</td>\n",
       "      <td>False</td>\n",
       "      <td>46-50</td>\n",
       "      <td>301-350</td>\n",
       "      <td>medium</td>\n",
       "      <td>501-1000</td>\n",
       "    </tr>\n",
       "    <tr>\n",
       "      <th>1</th>\n",
       "      <td>IN</td>\n",
       "      <td>250/500</td>\n",
       "      <td>other</td>\n",
       "      <td>468176</td>\n",
       "      <td>MALE</td>\n",
       "      <td>MD</td>\n",
       "      <td>machine-op-inspct</td>\n",
       "      <td>other</td>\n",
       "      <td>other-relative</td>\n",
       "      <td>0</td>\n",
       "      <td>...</td>\n",
       "      <td>Mercedes</td>\n",
       "      <td>E400</td>\n",
       "      <td>2007</td>\n",
       "      <td>1</td>\n",
       "      <td>3130</td>\n",
       "      <td>False</td>\n",
       "      <td>41-45</td>\n",
       "      <td>201-250</td>\n",
       "      <td>medium</td>\n",
       "      <td>1501-2000</td>\n",
       "    </tr>\n",
       "    <tr>\n",
       "      <th>2</th>\n",
       "      <td>OH</td>\n",
       "      <td>MISSING</td>\n",
       "      <td>other</td>\n",
       "      <td>430632</td>\n",
       "      <td>FEMALE</td>\n",
       "      <td>PhD</td>\n",
       "      <td>sales</td>\n",
       "      <td>other</td>\n",
       "      <td>own-child</td>\n",
       "      <td>35100</td>\n",
       "      <td>...</td>\n",
       "      <td>Dodge</td>\n",
       "      <td>RAM</td>\n",
       "      <td>2007</td>\n",
       "      <td>0</td>\n",
       "      <td>5282</td>\n",
       "      <td>False</td>\n",
       "      <td>26-30</td>\n",
       "      <td>101-150</td>\n",
       "      <td>medium</td>\n",
       "      <td>1501-2000</td>\n",
       "    </tr>\n",
       "    <tr>\n",
       "      <th>3</th>\n",
       "      <td>IL</td>\n",
       "      <td>MISSING</td>\n",
       "      <td>other</td>\n",
       "      <td>608117</td>\n",
       "      <td>FEMALE</td>\n",
       "      <td>PhD</td>\n",
       "      <td>armed-forces</td>\n",
       "      <td>other</td>\n",
       "      <td>unmarried</td>\n",
       "      <td>48900</td>\n",
       "      <td>...</td>\n",
       "      <td>Chevrolet</td>\n",
       "      <td>Tahoe</td>\n",
       "      <td>2014</td>\n",
       "      <td>1</td>\n",
       "      <td>8996</td>\n",
       "      <td>False</td>\n",
       "      <td>41-45</td>\n",
       "      <td>251-300</td>\n",
       "      <td>medium</td>\n",
       "      <td>1501-2000</td>\n",
       "    </tr>\n",
       "    <tr>\n",
       "      <th>4</th>\n",
       "      <td>IL</td>\n",
       "      <td>MISSING</td>\n",
       "      <td>other</td>\n",
       "      <td>610706</td>\n",
       "      <td>MALE</td>\n",
       "      <td>Associate</td>\n",
       "      <td>sales</td>\n",
       "      <td>other</td>\n",
       "      <td>unmarried</td>\n",
       "      <td>66000</td>\n",
       "      <td>...</td>\n",
       "      <td>Accura</td>\n",
       "      <td>RSX</td>\n",
       "      <td>2009</td>\n",
       "      <td>0</td>\n",
       "      <td>256</td>\n",
       "      <td>False</td>\n",
       "      <td>41-45</td>\n",
       "      <td>201-250</td>\n",
       "      <td>high</td>\n",
       "      <td>501-1000</td>\n",
       "    </tr>\n",
       "  </tbody>\n",
       "</table>\n",
       "<p>5 rows × 35 columns</p>\n",
       "</div>"
      ],
      "text/plain": [
       "  policy_state policy_csl umbrella_limit  insured_zip insured_sex  \\\n",
       "0           OH    250/500            0.0       466132        MALE   \n",
       "1           IN    250/500          other       468176        MALE   \n",
       "2           OH    MISSING          other       430632      FEMALE   \n",
       "3           IL    MISSING          other       608117      FEMALE   \n",
       "4           IL    MISSING          other       610706        MALE   \n",
       "\n",
       "  insured_education_level insured_occupation insured_hobbies  \\\n",
       "0                      MD       craft-repair           other   \n",
       "1                      MD  machine-op-inspct           other   \n",
       "2                     PhD              sales           other   \n",
       "3                     PhD       armed-forces           other   \n",
       "4               Associate              sales           other   \n",
       "\n",
       "  insured_relationship  capital-gains  ...  auto_make auto_model auto_year  \\\n",
       "0              husband          53300  ...       Saab        92x      2004   \n",
       "1       other-relative              0  ...   Mercedes       E400      2007   \n",
       "2            own-child          35100  ...      Dodge        RAM      2007   \n",
       "3            unmarried          48900  ...  Chevrolet      Tahoe      2014   \n",
       "4            unmarried          66000  ...     Accura        RSX      2009   \n",
       "\n",
       "  fraud_reported claim_day_of_policy location_check age_group  \\\n",
       "0              1                 100          False     46-50   \n",
       "1              1                3130          False     41-45   \n",
       "2              0                5282          False     26-30   \n",
       "3              1                8996          False     41-45   \n",
       "4              0                 256          False     41-45   \n",
       "\n",
       "  months_as_customer_groups  policy_annual_premium_groups  \\\n",
       "0                   301-350                        medium   \n",
       "1                   201-250                        medium   \n",
       "2                   101-150                        medium   \n",
       "3                   251-300                        medium   \n",
       "4                   201-250                          high   \n",
       "\n",
       "   policy_deductable_group  \n",
       "0                 501-1000  \n",
       "1                1501-2000  \n",
       "2                1501-2000  \n",
       "3                1501-2000  \n",
       "4                 501-1000  \n",
       "\n",
       "[5 rows x 35 columns]"
      ]
     },
     "execution_count": 24,
     "metadata": {},
     "output_type": "execute_result"
    }
   ],
   "source": [
    "df1 = df1[required_columns]\n",
    "df1.head()"
   ]
  },
  {
   "cell_type": "markdown",
   "metadata": {
    "id": "aI86HBaBEfqO",
    "papermill": {
     "duration": 0.037906,
     "end_time": "2020-08-27T14:32:39.875032",
     "exception": false,
     "start_time": "2020-08-27T14:32:39.837126",
     "status": "completed"
    },
    "tags": []
   },
   "source": [
    "## Encoding data for modelling"
   ]
  },
  {
   "cell_type": "code",
   "execution_count": 25,
   "metadata": {
    "execution": {
     "iopub.execute_input": "2020-08-27T14:32:39.955766Z",
     "iopub.status.busy": "2020-08-27T14:32:39.955015Z",
     "iopub.status.idle": "2020-08-27T14:32:39.967664Z",
     "shell.execute_reply": "2020-08-27T14:32:39.968195Z"
    },
    "id": "i1qW-fAZDDpc",
    "outputId": "2682546e-5219-4745-e87e-d9bd3fdd4fe9",
    "papermill": {
     "duration": 0.054915,
     "end_time": "2020-08-27T14:32:39.968372",
     "exception": false,
     "start_time": "2020-08-27T14:32:39.913457",
     "status": "completed"
    },
    "tags": []
   },
   "outputs": [
    {
     "data": {
      "text/plain": [
       "['policy_state',\n",
       " 'policy_csl',\n",
       " 'umbrella_limit',\n",
       " 'insured_sex',\n",
       " 'insured_education_level',\n",
       " 'insured_occupation',\n",
       " 'insured_hobbies',\n",
       " 'insured_relationship',\n",
       " 'incident_type',\n",
       " 'collision_type',\n",
       " 'incident_severity',\n",
       " 'authorities_contacted',\n",
       " 'incident_state',\n",
       " 'incident_city',\n",
       " 'incident_location',\n",
       " 'property_damage',\n",
       " 'police_report_available',\n",
       " 'auto_make',\n",
       " 'auto_model',\n",
       " 'location_check',\n",
       " 'age_group',\n",
       " 'months_as_customer_groups',\n",
       " 'policy_annual_premium_groups',\n",
       " 'policy_deductable_group']"
      ]
     },
     "execution_count": 25,
     "metadata": {},
     "output_type": "execute_result"
    }
   ],
   "source": [
    "cat_cols = ['age_group', 'months_as_customer_groups', 'policy_annual_premium_groups','location_check','policy_deductable_group']\n",
    "for col in cat_cols:\n",
    "  df1[col] = df1[col].astype('object')\n",
    "\n",
    "columns_to_encode = []\n",
    "for col in df1.columns:\n",
    "  if df1[col].dtype == 'object':\n",
    "    columns_to_encode.append(col)\n",
    "\n",
    "columns_to_encode"
   ]
  },
  {
   "cell_type": "markdown",
   "metadata": {},
   "source": [
    "---------------------------"
   ]
  },
  {
   "cell_type": "markdown",
   "metadata": {},
   "source": [
    "### Buraya kadar olan kisimlar original notebookta olan verionisleme asamalari idi, buradan sonrasi kendi yorumum"
   ]
  },
  {
   "cell_type": "code",
   "execution_count": 31,
   "metadata": {},
   "outputs": [],
   "source": [
    "y = df1['fraud_reported']\n",
    "X = df1.drop(['fraud_reported'], axis=1)"
   ]
  },
  {
   "cell_type": "code",
   "execution_count": 86,
   "metadata": {},
   "outputs": [],
   "source": [
    "X_train, X_test, y_train, y_test = train_test_split(X, y, test_size=0.33, random_state=42)"
   ]
  },
  {
   "cell_type": "code",
   "execution_count": 87,
   "metadata": {},
   "outputs": [
    {
     "data": {
      "text/plain": [
       "['insured_zip',\n",
       " 'capital-gains',\n",
       " 'capital-loss',\n",
       " 'incident_hour_of_the_day',\n",
       " 'number_of_vehicles_involved',\n",
       " 'bodily_injuries',\n",
       " 'witnesses',\n",
       " 'total_claim_amount',\n",
       " 'auto_year',\n",
       " 'claim_day_of_policy']"
      ]
     },
     "execution_count": 87,
     "metadata": {},
     "output_type": "execute_result"
    }
   ],
   "source": [
    "all_noncat = list(df1.columns)\n",
    "for i in columns_to_encode:\n",
    "    all_noncat.remove(i)\n",
    "all_noncat.remove('fraud_reported')\n",
    "all_noncat"
   ]
  },
  {
   "cell_type": "code",
   "execution_count": 88,
   "metadata": {},
   "outputs": [],
   "source": [
    "from sklearn.preprocessing import OneHotEncoder\n",
    "\n",
    "oh_encoder = OneHotEncoder(handle_unknown='ignore')\n",
    "\n",
    "X_train_encoded = oh_encoder.fit_transform(X_train[columns_to_encode]).toarray()\n",
    "\n",
    "X_test_encoded = oh_encoder.transform(X_test[columns_to_encode]).toarray()"
   ]
  },
  {
   "cell_type": "code",
   "execution_count": 89,
   "metadata": {},
   "outputs": [],
   "source": [
    "X_train_encoded = pd.DataFrame(X_train_encoded, columns=oh_encoder.get_feature_names())\n",
    "X_test_encoded = pd.DataFrame(X_test_encoded, columns=oh_encoder.get_feature_names())"
   ]
  },
  {
   "cell_type": "code",
   "execution_count": 90,
   "metadata": {},
   "outputs": [],
   "source": [
    "from sklearn.preprocessing import StandardScaler\n",
    "\n",
    "\n",
    "scaler = StandardScaler()\n",
    "X_train_scaled = scaler.fit_transform(X_train[all_noncat])\n",
    "X_test_scaled = scaler.transform(X_test[all_noncat])"
   ]
  },
  {
   "cell_type": "code",
   "execution_count": 91,
   "metadata": {},
   "outputs": [],
   "source": [
    "X_train_scaled = pd.DataFrame(X_train_scaled, columns=X_train[all_noncat].columns)\n",
    "X_test_scaled = pd.DataFrame(X_test_scaled, columns=X_test[all_noncat].columns)"
   ]
  },
  {
   "cell_type": "code",
   "execution_count": 93,
   "metadata": {},
   "outputs": [],
   "source": [
    "X_train = pd.concat([X_train_scaled, X_train_encoded], axis=1)\n",
    "X_test = pd.concat([X_test_scaled, X_test_encoded], axis=1)"
   ]
  },
  {
   "cell_type": "code",
   "execution_count": 94,
   "metadata": {
    "execution": {
     "iopub.execute_input": "2020-08-27T14:32:42.840178Z",
     "iopub.status.busy": "2020-08-27T14:32:42.839334Z",
     "iopub.status.idle": "2020-08-27T14:32:42.842818Z",
     "shell.execute_reply": "2020-08-27T14:32:42.842129Z"
    },
    "id": "3ZUFTEpDcL2l",
    "papermill": {
     "duration": 0.04994,
     "end_time": "2020-08-27T14:32:42.842936",
     "exception": false,
     "start_time": "2020-08-27T14:32:42.792996",
     "status": "completed"
    },
    "tags": []
   },
   "outputs": [],
   "source": [
    "from sklearn.ensemble import RandomForestClassifier"
   ]
  },
  {
   "cell_type": "markdown",
   "metadata": {
    "papermill": {
     "duration": 0.039705,
     "end_time": "2020-08-27T14:32:42.923005",
     "exception": false,
     "start_time": "2020-08-27T14:32:42.883300",
     "status": "completed"
    },
    "tags": []
   },
   "source": [
    "## Random Forest"
   ]
  },
  {
   "cell_type": "code",
   "execution_count": 95,
   "metadata": {
    "execution": {
     "iopub.execute_input": "2020-08-27T14:32:43.011692Z",
     "iopub.status.busy": "2020-08-27T14:32:43.010991Z",
     "iopub.status.idle": "2020-08-27T14:32:43.281134Z",
     "shell.execute_reply": "2020-08-27T14:32:43.280551Z"
    },
    "id": "-OxUNcuhrdhe",
    "outputId": "7a2c0fc6-aee0-4bec-f0a7-85d9b0691b6e",
    "papermill": {
     "duration": 0.317356,
     "end_time": "2020-08-27T14:32:43.281285",
     "exception": false,
     "start_time": "2020-08-27T14:32:42.963929",
     "status": "completed"
    },
    "tags": []
   },
   "outputs": [
    {
     "data": {
      "text/plain": [
       "RandomForestClassifier(random_state=1)"
      ]
     },
     "execution_count": 95,
     "metadata": {},
     "output_type": "execute_result"
    }
   ],
   "source": [
    "rfc = RandomForestClassifier(random_state = 1)\n",
    "rfc.fit(X_train, y_train)\n"
   ]
  },
  {
   "cell_type": "code",
   "execution_count": 96,
   "metadata": {
    "execution": {
     "iopub.execute_input": "2020-08-27T14:32:43.371859Z",
     "iopub.status.busy": "2020-08-27T14:32:43.370662Z",
     "iopub.status.idle": "2020-08-27T14:32:43.408285Z",
     "shell.execute_reply": "2020-08-27T14:32:43.407692Z"
    },
    "id": "x5ejJI2lrvrh",
    "outputId": "682b0d3c-7ea8-43d0-d4cb-c9c9dc063500",
    "papermill": {
     "duration": 0.086428,
     "end_time": "2020-08-27T14:32:43.408450",
     "exception": false,
     "start_time": "2020-08-27T14:32:43.322022",
     "status": "completed"
    },
    "tags": []
   },
   "outputs": [
    {
     "name": "stdout",
     "output_type": "stream",
     "text": [
      "72.72727272727273\n",
      "\n",
      "              precision    recall  f1-score   support\n",
      "\n",
      "           0       0.75      0.95      0.84       242\n",
      "           1       0.45      0.10      0.17        88\n",
      "\n",
      "    accuracy                           0.73       330\n",
      "   macro avg       0.60      0.53      0.50       330\n",
      "weighted avg       0.67      0.73      0.66       330\n",
      "\n"
     ]
    },
    {
     "data": {
      "text/plain": [
       "<AxesSubplot:>"
      ]
     },
     "execution_count": 96,
     "metadata": {},
     "output_type": "execute_result"
    },
    {
     "data": {
      "image/png": "[encoded data removed]",
      "text/plain": [
       "<Figure size 432x288 with 2 Axes>"
      ]
     },
     "metadata": {
      "needs_background": "light"
     },
     "output_type": "display_data"
    }
   ],
   "source": [
    "preds = rfc.predict(X_test)\n",
    "\n",
    "score = rfc.score(X_test, y_test)\n",
    "print(score*100)\n",
    "print()\n",
    "print(classification_report(y_test, preds))\n",
    "\n",
    "cm = confusion_matrix(y_test, preds)\n",
    "sns\n",
    "sns.heatmap(cm, annot=True)"
   ]
  },
  {
   "cell_type": "markdown",
   "metadata": {
    "papermill": {
     "duration": 0.04187,
     "end_time": "2020-08-27T14:32:43.845681",
     "exception": false,
     "start_time": "2020-08-27T14:32:43.803811",
     "status": "completed"
    },
    "tags": []
   },
   "source": [
    "# Hyperparameter Tuning"
   ]
  },
  {
   "cell_type": "markdown",
   "metadata": {
    "papermill": {
     "duration": 0.040194,
     "end_time": "2020-08-27T14:32:43.927790",
     "exception": false,
     "start_time": "2020-08-27T14:32:43.887596",
     "status": "completed"
    },
    "tags": []
   },
   "source": [
    "In SVC, we can change the kernel and degree inorder to improve our model. We will do that & see if accuracy improves."
   ]
  },
  {
   "cell_type": "code",
   "execution_count": 97,
   "metadata": {},
   "outputs": [
    {
     "name": "stdout",
     "output_type": "stream",
     "text": [
      "Parameters currently in use:\n",
      "\n",
      "{'bootstrap': True,\n",
      " 'ccp_alpha': 0.0,\n",
      " 'class_weight': None,\n",
      " 'criterion': 'gini',\n",
      " 'max_depth': None,\n",
      " 'max_features': 'auto',\n",
      " 'max_leaf_nodes': None,\n",
      " 'max_samples': None,\n",
      " 'min_impurity_decrease': 0.0,\n",
      " 'min_impurity_split': None,\n",
      " 'min_samples_leaf': 1,\n",
      " 'min_samples_split': 2,\n",
      " 'min_weight_fraction_leaf': 0.0,\n",
      " 'n_estimators': 100,\n",
      " 'n_jobs': None,\n",
      " 'oob_score': False,\n",
      " 'random_state': 1,\n",
      " 'verbose': 0,\n",
      " 'warm_start': False}\n"
     ]
    }
   ],
   "source": [
    "\n",
    "from pprint import pprint\n",
    "print('Parameters currently in use:\\n')\n",
    "pprint(rfc.get_params())"
   ]
  },
  {
   "cell_type": "markdown",
   "metadata": {},
   "source": [
    "* n_estimators = Ağaç Sayısı\n",
    "* max_features = Bir Node'u bölmek için kullanılacak maksimum feature sayısı\n",
    "* max_depth = Her bir karar ağacının maksiumum leveli\n",
    "* min_samples_split = Bir Node'u bölmeden önce kullanılacak minimum nokta sayısı\n",
    "* min_samples_leaf =Bir Leaf Node'da izin verilen minimum nokta sayısı\n",
    "* bootstrap = Veri noktalarını örnekleme yöntemi"
   ]
  },
  {
   "cell_type": "code",
   "execution_count": 98,
   "metadata": {
    "execution": {
     "iopub.execute_input": "2020-08-27T14:32:44.015033Z",
     "iopub.status.busy": "2020-08-27T14:32:44.014286Z",
     "iopub.status.idle": "2020-08-27T14:32:44.017846Z",
     "shell.execute_reply": "2020-08-27T14:32:44.017313Z"
    },
    "papermill": {
     "duration": 0.049788,
     "end_time": "2020-08-27T14:32:44.017968",
     "exception": false,
     "start_time": "2020-08-27T14:32:43.968180",
     "status": "completed"
    },
    "tags": []
   },
   "outputs": [
    {
     "name": "stdout",
     "output_type": "stream",
     "text": [
      "{'bootstrap': [True, False],\n",
      " 'max_depth': [5, 17, 30, None],\n",
      " 'max_features': ['auto', 'sqrt'],\n",
      " 'min_samples_leaf': [1, 2, 4],\n",
      " 'min_samples_split': [2, 5, 10],\n",
      " 'n_estimators': [300, 650, 1000]}\n"
     ]
    }
   ],
   "source": [
    "from sklearn.model_selection import RandomizedSearchCV\n",
    "# Number of trees in random forest\n",
    "n_estimators = [int(x) for x in np.linspace(start = 300, stop = 1000, num = 3)]\n",
    "# Number of features to consider at every split\n",
    "max_features = ['auto', 'sqrt']\n",
    "# Maximum number of levels in tree\n",
    "max_depth = [int(x) for x in np.linspace(5, 30, num = 3)]\n",
    "max_depth.append(None)\n",
    "# Minimum number of samples required to split a node\n",
    "min_samples_split = [2, 5, 10]\n",
    "# Minimum number of samples required at each leaf node\n",
    "min_samples_leaf = [1, 2, 4]\n",
    "# Method of selecting samples for training each tree\n",
    "bootstrap = [True, False]\n",
    "# Create the random grid\n",
    "random_grid = {'n_estimators': n_estimators,\n",
    "               'max_features': max_features,\n",
    "               'max_depth': max_depth,\n",
    "               'min_samples_split': min_samples_split,\n",
    "               'min_samples_leaf': min_samples_leaf,\n",
    "               'bootstrap': bootstrap}\n",
    "pprint(random_grid)"
   ]
  },
  {
   "cell_type": "code",
   "execution_count": 99,
   "metadata": {},
   "outputs": [
    {
     "name": "stdout",
     "output_type": "stream",
     "text": [
      "Fitting 3 folds for each of 100 candidates, totalling 300 fits\n"
     ]
    },
    {
     "data": {
      "text/plain": [
       "RandomizedSearchCV(cv=3, estimator=RandomForestClassifier(), n_iter=100,\n",
       "                   n_jobs=-1,\n",
       "                   param_distributions={'bootstrap': [True, False],\n",
       "                                        'max_depth': [5, 17, 30, None],\n",
       "                                        'max_features': ['auto', 'sqrt'],\n",
       "                                        'min_samples_leaf': [1, 2, 4],\n",
       "                                        'min_samples_split': [2, 5, 10],\n",
       "                                        'n_estimators': [300, 650, 1000]},\n",
       "                   random_state=42, verbose=2)"
      ]
     },
     "execution_count": 99,
     "metadata": {},
     "output_type": "execute_result"
    }
   ],
   "source": [
    "# Use the random grid to search for best hyperparameters\n",
    "# First create the base model to tune\n",
    "rf = RandomForestClassifier()\n",
    "# Random search of parameters, using 3 fold cross validation, \n",
    "# search across 100 different combinations, and use all available cores\n",
    "rf_random = RandomizedSearchCV(estimator = rf, param_distributions = random_grid, n_iter = 100, cv = 3, verbose=2, random_state=42, n_jobs = -1)\n",
    "# Fit the random search model\n",
    "rf_random.fit(X_train, y_train)"
   ]
  },
  {
   "cell_type": "code",
   "execution_count": 100,
   "metadata": {},
   "outputs": [
    {
     "data": {
      "text/plain": [
       "{'n_estimators': 650,\n",
       " 'min_samples_split': 2,\n",
       " 'min_samples_leaf': 1,\n",
       " 'max_features': 'sqrt',\n",
       " 'max_depth': 30,\n",
       " 'bootstrap': False}"
      ]
     },
     "execution_count": 100,
     "metadata": {},
     "output_type": "execute_result"
    }
   ],
   "source": [
    "rf_random.best_params_"
   ]
  },
  {
   "cell_type": "code",
   "execution_count": 101,
   "metadata": {},
   "outputs": [
    {
     "name": "stdout",
     "output_type": "stream",
     "text": [
      "73.63636363636363\n",
      "\n",
      "              precision    recall  f1-score   support\n",
      "\n",
      "           0       0.75      0.97      0.84       242\n",
      "           1       0.53      0.10      0.17        88\n",
      "\n",
      "    accuracy                           0.74       330\n",
      "   macro avg       0.64      0.53      0.51       330\n",
      "weighted avg       0.69      0.74      0.66       330\n",
      "\n"
     ]
    },
    {
     "data": {
      "text/plain": [
       "<AxesSubplot:>"
      ]
     },
     "execution_count": 101,
     "metadata": {},
     "output_type": "execute_result"
    },
    {
     "data": {
      "image/png": "[encoded data removed]",
      "text/plain": [
       "<Figure size 432x288 with 2 Axes>"
      ]
     },
     "metadata": {
      "needs_background": "light"
     },
     "output_type": "display_data"
    }
   ],
   "source": [
    "rf2 = RandomForestClassifier(n_estimators=650,min_samples_split=2,min_samples_leaf=1,max_features='sqrt'\n",
    "                            ,max_depth=30,bootstrap='False')\n",
    "rf2.fit(X_train, y_train)\n",
    "\n",
    "preds = rf2.predict(X_test)\n",
    "\n",
    "score = rf2.score(X_test, y_test)\n",
    "print(score*100)\n",
    "print()\n",
    "print(classification_report(y_test, preds))\n",
    "\n",
    "cm = confusion_matrix(y_test, preds)\n",
    "sns\n",
    "sns.heatmap(cm, annot=True)"
   ]
  },
  {
   "cell_type": "markdown",
   "metadata": {},
   "source": [
    "## Thresholdu degistirerek Fraudlarin daha iyi yakalanabildigi durumlari olusturdum buradan sonrasinda"
   ]
  },
  {
   "cell_type": "code",
   "execution_count": 111,
   "metadata": {},
   "outputs": [],
   "source": [
    "preds_06_threshold = pd.DataFrame(rf2.predict_proba(X_test))[0].apply(lambda x: 0 if x>0.6 else 1)"
   ]
  },
  {
   "cell_type": "code",
   "execution_count": 112,
   "metadata": {},
   "outputs": [
    {
     "name": "stdout",
     "output_type": "stream",
     "text": [
      "              precision    recall  f1-score   support\n",
      "\n",
      "           0       0.86      0.87      0.87       242\n",
      "           1       0.64      0.61      0.62        88\n",
      "\n",
      "    accuracy                           0.80       330\n",
      "   macro avg       0.75      0.74      0.75       330\n",
      "weighted avg       0.80      0.80      0.80       330\n",
      "\n"
     ]
    },
    {
     "data": {
      "text/plain": [
       "<AxesSubplot:>"
      ]
     },
     "execution_count": 112,
     "metadata": {},
     "output_type": "execute_result"
    },
    {
     "data": {
      "image/png": "[encoded data removed]",
      "text/plain": [
       "<Figure size 432x288 with 2 Axes>"
      ]
     },
     "metadata": {
      "needs_background": "light"
     },
     "output_type": "display_data"
    }
   ],
   "source": [
    "\n",
    "print(classification_report(y_test, preds_06_threshold))\n",
    "\n",
    "cm = confusion_matrix(y_test, preds_06_threshold)\n",
    "sns\n",
    "sns.heatmap(cm, annot=True)"
   ]
  },
  {
   "cell_type": "code",
   "execution_count": 113,
   "metadata": {},
   "outputs": [
    {
     "name": "stdout",
     "output_type": "stream",
     "text": [
      "              precision    recall  f1-score   support\n",
      "\n",
      "           0       0.93      0.83      0.88       242\n",
      "           1       0.65      0.83      0.73        88\n",
      "\n",
      "    accuracy                           0.83       330\n",
      "   macro avg       0.79      0.83      0.80       330\n",
      "weighted avg       0.85      0.83      0.84       330\n",
      "\n"
     ]
    },
    {
     "data": {
      "text/plain": [
       "<AxesSubplot:>"
      ]
     },
     "execution_count": 113,
     "metadata": {},
     "output_type": "execute_result"
    },
    {
     "data": {
      "image/png": "[encoded data removed]",
      "text/plain": [
       "<Figure size 432x288 with 2 Axes>"
      ]
     },
     "metadata": {
      "needs_background": "light"
     },
     "output_type": "display_data"
    }
   ],
   "source": [
    "preds_07_threshold = pd.DataFrame(rf2.predict_proba(X_test))[0].apply(lambda x: 0 if x>0.7 else 1)\n",
    "\n",
    "\n",
    "print(classification_report(y_test, preds_07_threshold))\n",
    "\n",
    "cm = confusion_matrix(y_test, preds_07_threshold)\n",
    "sns\n",
    "sns.heatmap(cm, annot=True)"
   ]
  },
  {
   "cell_type": "code",
   "execution_count": 114,
   "metadata": {},
   "outputs": [
    {
     "name": "stdout",
     "output_type": "stream",
     "text": [
      "              precision    recall  f1-score   support\n",
      "\n",
      "           0       0.94      0.79      0.86       242\n",
      "           1       0.59      0.86      0.70        88\n",
      "\n",
      "    accuracy                           0.81       330\n",
      "   macro avg       0.77      0.82      0.78       330\n",
      "weighted avg       0.85      0.81      0.82       330\n",
      "\n"
     ]
    },
    {
     "data": {
      "text/plain": [
       "<AxesSubplot:>"
      ]
     },
     "execution_count": 114,
     "metadata": {},
     "output_type": "execute_result"
    },
    {
     "data": {
      "image/png": "[encoded data removed]",
      "text/plain": [
       "<Figure size 432x288 with 2 Axes>"
      ]
     },
     "metadata": {
      "needs_background": "light"
     },
     "output_type": "display_data"
    }
   ],
   "source": [
    "preds_08_threshold = pd.DataFrame(rf2.predict_proba(X_test))[0].apply(lambda x: 0 if x>0.8 else 1)\n",
    "\n",
    "\n",
    "print(classification_report(y_test, preds_08_threshold))\n",
    "\n",
    "cm = confusion_matrix(y_test, preds_08_threshold)\n",
    "sns\n",
    "sns.heatmap(cm, annot=True)"
   ]
  },
  {
   "cell_type": "code",
   "execution_count": 115,
   "metadata": {},
   "outputs": [
    {
     "name": "stdout",
     "output_type": "stream",
     "text": [
      "              precision    recall  f1-score   support\n",
      "\n",
      "           0       0.94      0.83      0.88       242\n",
      "           1       0.64      0.85      0.73        88\n",
      "\n",
      "    accuracy                           0.83       330\n",
      "   macro avg       0.79      0.84      0.81       330\n",
      "weighted avg       0.86      0.83      0.84       330\n",
      "\n"
     ]
    },
    {
     "data": {
      "text/plain": [
       "<AxesSubplot:>"
      ]
     },
     "execution_count": 115,
     "metadata": {},
     "output_type": "execute_result"
    },
    {
     "data": {
      "image/png": "[encoded data removed]",
      "text/plain": [
       "<Figure size 432x288 with 2 Axes>"
      ]
     },
     "metadata": {
      "needs_background": "light"
     },
     "output_type": "display_data"
    }
   ],
   "source": [
    "preds_075_threshold = pd.DataFrame(rf2.predict_proba(X_test))[0].apply(lambda x: 0 if x>0.75 else 1)\n",
    "\n",
    "\n",
    "print(classification_report(y_test, preds_075_threshold))\n",
    "\n",
    "cm = confusion_matrix(y_test, preds_075_threshold)\n",
    "sns\n",
    "sns.heatmap(cm, annot=True)"
   ]
  },
  {
   "cell_type": "code",
   "execution_count": null,
   "metadata": {},
   "outputs": [],
   "source": []
  }
 ],
 "metadata": {
  "interpreter": {
   "hash": "6cdd5c47bc6420c10078da48ccf3042f52065ddde2ec763a2c148822f71795cb"
  },
  "kernelspec": {
   "display_name": "Python 3.8.0 64-bit ('tf-gpu-kernel': conda)",
   "name": "python3"
  },
  "language_info": {
   "codemirror_mode": {
    "name": "ipython",
    "version": 3
   },
   "file_extension": ".py",
   "mimetype": "text/x-python",
   "name": "python",
   "nbconvert_exporter": "python",
   "pygments_lexer": "ipython3",
   "version": "3.8.0"
  },
  "papermill": {
   "duration": 828.493667,
   "end_time": "2020-08-27T14:46:07.014720",
   "environment_variables": {},
   "exception": null,
   "input_path": "__notebook__.ipynb",
   "output_path": "__notebook__.ipynb",
   "parameters": {},
   "start_time": "2020-08-27T14:32:18.521053",
   "version": "2.1.0"
  }
 },
 "nbformat": 4,
 "nbformat_minor": 4
}
